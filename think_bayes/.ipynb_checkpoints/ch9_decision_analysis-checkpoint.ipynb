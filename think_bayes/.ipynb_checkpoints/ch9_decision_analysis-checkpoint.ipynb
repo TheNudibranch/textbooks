{
 "cells": [
  {
   "cell_type": "code",
   "execution_count": 1,
   "metadata": {},
   "outputs": [],
   "source": [
    "import numpy as np\n",
    "from empiricaldist import Pmf\n",
    "import matplotlib.pyplot as plt\n",
    "import pandas as pd"
   ]
  },
  {
   "cell_type": "markdown",
   "metadata": {},
   "source": [
    "### Using the price is right data"
   ]
  },
  {
   "cell_type": "code",
   "execution_count": 2,
   "metadata": {},
   "outputs": [],
   "source": [
    "def read_data(filename):\n",
    "    \"\"\"Read the showcase price data.\"\"\"\n",
    "    df = pd.read_csv(filename, index_col=0, skiprows=[1])\n",
    "    return df.dropna().transpose()"
   ]
  },
  {
   "cell_type": "code",
   "execution_count": 6,
   "metadata": {},
   "outputs": [
    {
     "data": {
      "text/html": [
       "<div>\n",
       "<style scoped>\n",
       "    .dataframe tbody tr th:only-of-type {\n",
       "        vertical-align: middle;\n",
       "    }\n",
       "\n",
       "    .dataframe tbody tr th {\n",
       "        vertical-align: top;\n",
       "    }\n",
       "\n",
       "    .dataframe thead th {\n",
       "        text-align: right;\n",
       "    }\n",
       "</style>\n",
       "<table border=\"1\" class=\"dataframe\">\n",
       "  <thead>\n",
       "    <tr style=\"text-align: right;\">\n",
       "      <th></th>\n",
       "      <th>Showcase 1</th>\n",
       "      <th>Showcase 2</th>\n",
       "      <th>Bid 1</th>\n",
       "      <th>Bid 2</th>\n",
       "      <th>Difference 1</th>\n",
       "      <th>Difference 2</th>\n",
       "    </tr>\n",
       "  </thead>\n",
       "  <tbody>\n",
       "    <tr>\n",
       "      <th>0</th>\n",
       "      <td>50969.0</td>\n",
       "      <td>45429.0</td>\n",
       "      <td>42000.0</td>\n",
       "      <td>34000.0</td>\n",
       "      <td>8969.0</td>\n",
       "      <td>11429.0</td>\n",
       "    </tr>\n",
       "    <tr>\n",
       "      <th>1</th>\n",
       "      <td>21901.0</td>\n",
       "      <td>34061.0</td>\n",
       "      <td>14000.0</td>\n",
       "      <td>59900.0</td>\n",
       "      <td>7901.0</td>\n",
       "      <td>-25839.0</td>\n",
       "    </tr>\n",
       "    <tr>\n",
       "      <th>2</th>\n",
       "      <td>32815.0</td>\n",
       "      <td>53186.0</td>\n",
       "      <td>32000.0</td>\n",
       "      <td>45000.0</td>\n",
       "      <td>815.0</td>\n",
       "      <td>8186.0</td>\n",
       "    </tr>\n",
       "    <tr>\n",
       "      <th>3</th>\n",
       "      <td>44432.0</td>\n",
       "      <td>31428.0</td>\n",
       "      <td>27000.0</td>\n",
       "      <td>38000.0</td>\n",
       "      <td>17432.0</td>\n",
       "      <td>-6572.0</td>\n",
       "    </tr>\n",
       "    <tr>\n",
       "      <th>4</th>\n",
       "      <td>24273.0</td>\n",
       "      <td>22320.0</td>\n",
       "      <td>18750.0</td>\n",
       "      <td>23000.0</td>\n",
       "      <td>5523.0</td>\n",
       "      <td>-680.0</td>\n",
       "    </tr>\n",
       "  </tbody>\n",
       "</table>\n",
       "</div>"
      ],
      "text/plain": [
       "   Showcase 1  Showcase 2    Bid 1    Bid 2  Difference 1  Difference 2\n",
       "0     50969.0     45429.0  42000.0  34000.0        8969.0       11429.0\n",
       "1     21901.0     34061.0  14000.0  59900.0        7901.0      -25839.0\n",
       "2     32815.0     53186.0  32000.0  45000.0         815.0        8186.0\n",
       "3     44432.0     31428.0  27000.0  38000.0       17432.0       -6572.0\n",
       "4     24273.0     22320.0  18750.0  23000.0        5523.0        -680.0"
      ]
     },
     "execution_count": 6,
     "metadata": {},
     "output_type": "execute_result"
    }
   ],
   "source": [
    "df2011 = read_data('showcases.2011.csv')\n",
    "df2012 = read_data('showcases.2012.csv')\n",
    "df = pd.concat([df2011, df2012], ignore_index=True)\n",
    "\n",
    "df.head()"
   ]
  },
  {
   "cell_type": "code",
   "execution_count": 7,
   "metadata": {},
   "outputs": [],
   "source": [
    "from scipy.stats import gaussian_kde"
   ]
  },
  {
   "cell_type": "code",
   "execution_count": 8,
   "metadata": {},
   "outputs": [],
   "source": [
    "def kde_from_sample(sample, qs):\n",
    "    \"\"\"Make a kernel density estimate from a sample.\"\"\"\n",
    "    kde = gaussian_kde(sample)\n",
    "    ps = kde(qs)\n",
    "    pmf = Pmf(ps, qs)\n",
    "    pmf.normalize()\n",
    "    return pmf"
   ]
  },
  {
   "cell_type": "code",
   "execution_count": 25,
   "metadata": {},
   "outputs": [],
   "source": [
    "qs = np.linspace(0, 80000, 81)\n",
    "prior1 = kde_from_sample(df['Showcase 1'], qs)"
   ]
  },
  {
   "cell_type": "code",
   "execution_count": 26,
   "metadata": {},
   "outputs": [
    {
     "data": {
      "image/png": "[encoded data removed]",
      "text/plain": [
       "<Figure size 432x288 with 1 Axes>"
      ]
     },
     "metadata": {
      "needs_background": "light"
     },
     "output_type": "display_data"
    }
   ],
   "source": [
    "prior1.plot()\n",
    "plt.title('Showcase 1')\n",
    "plt.show()"
   ]
  },
  {
   "cell_type": "code",
   "execution_count": 20,
   "metadata": {},
   "outputs": [
    {
     "data": {
      "image/png": "[encoded data removed]",
      "text/plain": [
       "<Figure size 432x288 with 1 Axes>"
      ]
     },
     "metadata": {
      "needs_background": "light"
     },
     "output_type": "display_data"
    }
   ],
   "source": [
    "prior2 = kde_from_sample(df['Showcase 2'], qs)\n",
    "prior2.plot()\n",
    "plt.title('Showcase 2')\n",
    "plt.show()"
   ]
  },
  {
   "cell_type": "markdown",
   "metadata": {},
   "source": [
    "### Distribution of Error"
   ]
  },
  {
   "cell_type": "code",
   "execution_count": 28,
   "metadata": {},
   "outputs": [],
   "source": [
    "# Define Error to be guess - price\n",
    "\n",
    "sample_diff1 = df['Bid 1'] - df['Showcase 1']\n",
    "sample_diff2 = df['Bid 2'] - df['Showcase 2']"
   ]
  },
  {
   "cell_type": "code",
   "execution_count": 38,
   "metadata": {},
   "outputs": [
    {
     "data": {
      "image/png": "[encoded data removed]",
      "text/plain": [
       "<Figure size 432x288 with 1 Axes>"
      ]
     },
     "metadata": {
      "needs_background": "light"
     },
     "output_type": "display_data"
    }
   ],
   "source": [
    "qs = np.linspace(-40000, 20000, 61)\n",
    "kde_diff1 = kde_from_sample(sample_diff1, qs)\n",
    "kde_diff2 = kde_from_sample(sample_diff2, qs)\n",
    "\n",
    "kde_diff1.plot(c='darkblue', lw=3, label='Showcase 1')\n",
    "kde_diff2.plot(c='grey', lw=3, label='Showcase 2')\n",
    "plt.legend()\n",
    "plt.show()"
   ]
  },
  {
   "cell_type": "markdown",
   "metadata": {},
   "source": [
    "### Updating"
   ]
  },
  {
   "cell_type": "code",
   "execution_count": 39,
   "metadata": {},
   "outputs": [],
   "source": [
    "guess1 = 23000\n",
    "error1 = guess1 - prior1.qs # Subtract guess from all hypothetical prices in prior"
   ]
  },
  {
   "cell_type": "code",
   "execution_count": 42,
   "metadata": {},
   "outputs": [],
   "source": [
    "# Assume that error dist is well modeled with a normal dist\n",
    "from scipy.stats import norm\n",
    "\n",
    "std_diff1 = sample_diff1.std()\n",
    "error_dist1 = norm(0, std_diff1)\n",
    "\n",
    "likelihood1 = error_dist1.pdf(error1)"
   ]
  },
  {
   "cell_type": "code",
   "execution_count": 43,
   "metadata": {},
   "outputs": [
    {
     "data": {
      "text/plain": [
       "3.3889812097254624e-05"
      ]
     },
     "execution_count": 43,
     "metadata": {},
     "output_type": "execute_result"
    }
   ],
   "source": [
    "posterior1 = prior1 * likelihood1\n",
    "posterior1.normalize()"
   ]
  },
  {
   "cell_type": "code",
   "execution_count": 49,
   "metadata": {},
   "outputs": [
    {
     "data": {
      "image/png": "[encoded data removed]",
      "text/plain": [
       "<Figure size 432x288 with 1 Axes>"
      ]
     },
     "metadata": {
      "needs_background": "light"
     },
     "output_type": "display_data"
    }
   ],
   "source": [
    "prior1.plot(color='C5', label='Prior 1', lw=3)\n",
    "posterior1.plot(color='C4', label='Posterior 1', lw=3)\n",
    "plt.xlabel('Showcase Value ($)')\n",
    "plt.legend()\n",
    "plt.show()"
   ]
  },
  {
   "cell_type": "code",
   "execution_count": 54,
   "metadata": {},
   "outputs": [
    {
     "data": {
      "image/png": "[encoded data removed]",
      "text/plain": [
       "<Figure size 432x288 with 1 Axes>"
      ]
     },
     "metadata": {
      "needs_background": "light"
     },
     "output_type": "display_data"
    }
   ],
   "source": [
    "# Use error_dist2 for player 2 that guesses 38000\n",
    "\n",
    "guess2 = 38000\n",
    "error2= guess2 - prior2.qs\n",
    "\n",
    "std_diff2 = sample_diff2.std()\n",
    "error_dist2 = norm(0, std_diff2)\n",
    "\n",
    "likelihood2 = error_dist2.pdf(error2)\n",
    "\n",
    "posterior2 = prior2 * likelihood2\n",
    "posterior2.normalize()\n",
    "\n",
    "prior2.plot(c='grey', label='Prior')\n",
    "posterior2.plot(c='darkblue', label='Posterior')\n",
    "plt.legend()\n",
    "plt.xlabel('Showcase Value ($)')\n",
    "plt.show()"
   ]
  },
  {
   "cell_type": "markdown",
   "metadata": {},
   "source": [
    "### Probability of Winning"
   ]
  },
  {
   "cell_type": "code",
   "execution_count": 55,
   "metadata": {},
   "outputs": [
    {
     "data": {
      "text/plain": [
       "0.29073482428115016"
      ]
     },
     "execution_count": 55,
     "metadata": {},
     "output_type": "execute_result"
    }
   ],
   "source": [
    "# From the point of view of player 1, compute the probability that player2 overbids\n",
    "def prob_overbid(sample_diff):\n",
    "    \"\"\"Compute the probability of an overbid.\"\"\"\n",
    "    return np.mean(sample_diff > 0)\n",
    "\n",
    "prob_overbid(sample_diff2)"
   ]
  },
  {
   "cell_type": "code",
   "execution_count": 57,
   "metadata": {},
   "outputs": [
    {
     "data": {
      "text/plain": [
       "0.38338658146964855"
      ]
     },
     "execution_count": 57,
     "metadata": {},
     "output_type": "execute_result"
    }
   ],
   "source": [
    "# Probability that player 2 underbids by more than 5000\n",
    "\n",
    "def prob_worse_than(diff, sample_diff):\n",
    "    \"\"\"Probability opponent diff is worse than given diff.\"\"\"\n",
    "    return np.mean(sample_diff < diff)\n",
    "\n",
    "prob_worse_than(-5000, sample_diff2)"
   ]
  },
  {
   "cell_type": "code",
   "execution_count": 60,
   "metadata": {},
   "outputs": [
    {
     "data": {
      "text/plain": [
       "0.6741214057507987"
      ]
     },
     "execution_count": 60,
     "metadata": {},
     "output_type": "execute_result"
    }
   ],
   "source": [
    "def compute_prob_win(diff, sample_diff):\n",
    "    \"\"\"Probability of winning for a given diff.\"\"\"\n",
    "    # if you overbid you lose\n",
    "    if diff > 0:\n",
    "        return 0\n",
    "    \n",
    "    # if the opponent overbids, you win\n",
    "    p1 = prob_overbid(sample_diff)\n",
    "    \n",
    "    # or of their bid is worse than yours, you win\n",
    "    p2 = prob_worse_than(diff, sample_diff)\n",
    "    \n",
    "    # p1 and p2 are mutually exclusive, so we can add them\n",
    "    return p1 + p2\n",
    "\n",
    "# Probability of winning if you bid 5000 under\n",
    "compute_prob_win(-5000, sample_diff2)"
   ]
  },
  {
   "cell_type": "code",
   "execution_count": 61,
   "metadata": {},
   "outputs": [],
   "source": [
    "xs = np.linspace(-30000, 5000, 121)\n",
    "ys = [compute_prob_win(x, sample_diff2) \n",
    "      for x in xs]"
   ]
  },
  {
   "cell_type": "code",
   "execution_count": 63,
   "metadata": {},
   "outputs": [
    {
     "data": {
      "image/png": "[encoded data removed]",
      "text/plain": [
       "<Figure size 432x288 with 1 Axes>"
      ]
     },
     "metadata": {
      "needs_background": "light"
     },
     "output_type": "display_data"
    }
   ],
   "source": [
    "plt.plot(xs,ys)\n",
    "plt.show()"
   ]
  },
  {
   "cell_type": "markdown",
   "metadata": {},
   "source": [
    "### Decision Analysis\n",
    "\n",
    "In reality, contestants don't know how much they underbid by. But we do have a posterior distribution that represents their beleifs of the actual price.\n",
    "\n",
    "Using the law of total probability:\n",
    "\n",
    "$P(win) = \\sum_{price}P(price)*P(win|price)$"
   ]
  },
  {
   "cell_type": "code",
   "execution_count": 64,
   "metadata": {},
   "outputs": [],
   "source": [
    "def total_prob_win(bid, posterior, sample_diff):\n",
    "    \"\"\"Computes the total probability of winning with a given bid.\n",
    "\n",
    "    bid: your bid\n",
    "    posterior: Pmf of showcase value\n",
    "    sample_diff: sequence of differences for the opponent\n",
    "    \n",
    "    returns: probability of winning\n",
    "    \"\"\"\n",
    "    total = 0\n",
    "    for price, prob in posterior.items():\n",
    "        diff = bid - price\n",
    "        total += prob * compute_prob_win(diff, sample_diff)\n",
    "    return total"
   ]
  },
  {
   "cell_type": "code",
   "execution_count": 65,
   "metadata": {},
   "outputs": [
    {
     "data": {
      "text/plain": [
       "0.4842210945439813"
      ]
     },
     "execution_count": 65,
     "metadata": {},
     "output_type": "execute_result"
    }
   ],
   "source": [
    "total_prob_win(25000, posterior1, sample_diff2)"
   ]
  },
  {
   "cell_type": "code",
   "execution_count": 111,
   "metadata": {},
   "outputs": [],
   "source": [
    "### Compute the probability of winning for each bid\n",
    "\n",
    "# Compute Prior\n",
    "qs = np.linspace(0, 80000, 81)\n",
    "prior1 = kde_from_sample(df['Showcase 1'], qs)\n",
    "\n",
    "std_diff1 = sample_diff1.std()\n",
    "error_dist1 = norm(0, std_diff1)\n",
    "\n",
    "\n",
    "guess1 = 23000\n",
    "error1 = guess1 - prior1.qs\n",
    "\n",
    "likelihood1 = error_dist1.pdf(error1)\n",
    "posterior1 = prior1 * likelihood1\n",
    "posterior1.normalize()\n",
    "\n",
    "bids = posterior1.qs\n",
    "\n",
    "probs = [total_prob_win(bid, posterior1, sample_diff2) for bid in bids]\n",
    "\n",
    "prob_win_series = pd.Series(probs, index=bids)"
   ]
  },
  {
   "cell_type": "code",
   "execution_count": 112,
   "metadata": {},
   "outputs": [
    {
     "data": {
      "image/png": "[encoded data removed]",
      "text/plain": [
       "<Figure size 432x288 with 1 Axes>"
      ]
     },
     "metadata": {
      "needs_background": "light"
     },
     "output_type": "display_data"
    }
   ],
   "source": [
    "prob_win_series.plot(lw=3)\n",
    "plt.ylabel('Prob of Winning Series')\n",
    "plt.xlabel('Bid ($)')\n",
    "plt.title('Optimal Bid: Probability of Winning')\n",
    "plt.show()"
   ]
  },
  {
   "cell_type": "code",
   "execution_count": 110,
   "metadata": {},
   "outputs": [
    {
     "data": {
      "text/plain": [
       "20000.0"
      ]
     },
     "execution_count": 110,
     "metadata": {},
     "output_type": "execute_result"
    }
   ],
   "source": [
    "prob_win_series.idxmax()"
   ]
  },
  {
   "cell_type": "markdown",
   "metadata": {},
   "source": [
    "### Maximizing Expected Gain\n",
    "\n",
    "Recall, if you are within 250 of the actual price, you win both showcases"
   ]
  },
  {
   "cell_type": "code",
   "execution_count": 101,
   "metadata": {},
   "outputs": [
    {
     "data": {
      "text/plain": [
       "23594.249201277955"
      ]
     },
     "execution_count": 101,
     "metadata": {},
     "output_type": "execute_result"
    }
   ],
   "source": [
    "# How much you will win on average given your bid, the average price, and the sample of errors for opponent\n",
    "def compute_gain(bid, price, sample_diff):\n",
    "    \"\"\"Compute expected gain given a bid and actual price.\"\"\"\n",
    "    diff = bid - price\n",
    "    prob = compute_prob_win(diff, sample_diff)\n",
    "\n",
    "    # if you are within 250 dollars, you win both showcases\n",
    "    if -250 <= diff <= 0:\n",
    "        return 2 * price * prob\n",
    "    else:\n",
    "        return price * prob\n",
    "\n",
    "compute_gain(30000, 35000, sample_diff2)"
   ]
  },
  {
   "cell_type": "code",
   "execution_count": 104,
   "metadata": {},
   "outputs": [
    {
     "data": {
      "text/plain": [
       "16070.610476881438"
      ]
     },
     "execution_count": 104,
     "metadata": {},
     "output_type": "execute_result"
    }
   ],
   "source": [
    "# Since we dont know the actual price, we can compute the expected gain from what we\n",
    "# know from the posterior\n",
    "def expected_gain(bid, posterior, sample_diff):\n",
    "    \"\"\"Compute the expected gain of a given bid.\"\"\"\n",
    "    total = 0\n",
    "    for price, prob in posterior.items():\n",
    "        total += prob * compute_gain(bid, price, sample_diff)\n",
    "    return total\n",
    "\n",
    "expected_gain(30000, posterior1, sample_diff2)"
   ]
  },
  {
   "cell_type": "code",
   "execution_count": 113,
   "metadata": {},
   "outputs": [],
   "source": [
    "# Find the bid that maximizes the gain\n",
    "bids = posterior1.qs\n",
    "\n",
    "gains = [expected_gain(bid, posterior1, sample_diff2) for bid in bids]\n",
    "\n",
    "expected_gain_series = pd.Series(gains, index=bids)"
   ]
  },
  {
   "cell_type": "code",
   "execution_count": 118,
   "metadata": {},
   "outputs": [
    {
     "data": {
      "image/png": "[encoded data removed]",
      "text/plain": [
       "<Figure size 432x288 with 1 Axes>"
      ]
     },
     "metadata": {
      "needs_background": "light"
     },
     "output_type": "display_data"
    }
   ],
   "source": [
    "expected_gain_series.plot()\n",
    "plt.xlabel('Bid($)')\n",
    "plt.ylabel('Expected Gain ($)')\n",
    "plt.title('Optimal Bid: Expected Gain')\n",
    "plt.show()"
   ]
  },
  {
   "cell_type": "code",
   "execution_count": 117,
   "metadata": {},
   "outputs": [
    {
     "data": {
      "text/plain": [
       "22000.0"
      ]
     },
     "execution_count": 117,
     "metadata": {},
     "output_type": "execute_result"
    }
   ],
   "source": [
    "# Bid with highest gain\n",
    "expected_gain_series.idxmax()"
   ]
  },
  {
   "cell_type": "code",
   "execution_count": 120,
   "metadata": {},
   "outputs": [
    {
     "data": {
      "text/plain": [
       "17384.8995844308"
      ]
     },
     "execution_count": 120,
     "metadata": {},
     "output_type": "execute_result"
    }
   ],
   "source": [
    "# Highest Gain\n",
    "expected_gain_series.max()"
   ]
  },
  {
   "cell_type": "code",
   "execution_count": null,
   "metadata": {},
   "outputs": [],
   "source": []
  }
 ],
 "metadata": {
  "kernelspec": {
   "display_name": "Python 3",
   "language": "python",
   "name": "python3"
  },
  "language_info": {
   "codemirror_mode": {
    "name": "ipython",
    "version": 3
   },
   "file_extension": ".py",
   "mimetype": "text/x-python",
   "name": "python",
   "nbconvert_exporter": "python",
   "pygments_lexer": "ipython3",
   "version": "3.8.5"
  }
 },
 "nbformat": 4,
 "nbformat_minor": 4
}
